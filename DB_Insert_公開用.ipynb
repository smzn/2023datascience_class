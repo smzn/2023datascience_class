{
  "nbformat": 4,
  "nbformat_minor": 0,
  "metadata": {
    "colab": {
      "provenance": []
    },
    "kernelspec": {
      "name": "python3",
      "display_name": "Python 3"
    },
    "language_info": {
      "name": "python"
    }
  },
  "cells": [
    {
      "cell_type": "code",
      "source": [
        "import requests\n",
        "\n",
        "url = \"https://api.nasa.gov/planetary/apod?api_key=xxxxxxxxxxxxxxxxxxxxxxxxx\"\n",
        "\n",
        "payload = {}\n",
        "headers = {}\n",
        "\n",
        "response = requests.request(\"GET\", url, headers=headers, data=payload)\n",
        "\n",
        "print(response.text)"
      ],
      "metadata": {
        "colab": {
          "base_uri": "https://localhost:8080/"
        },
        "id": "7NGXHC8zuYZC",
        "outputId": "4f227b89-af4a-466a-f7d6-c4aa43a74bc7"
      },
      "execution_count": null,
      "outputs": [
        {
          "output_type": "stream",
          "name": "stdout",
          "text": [
            "{\"copyright\":\"Jes\\u00fas Carmona Guill\\u00e9n\",\"date\":\"2024-07-04\",\"explanation\":\"The beautiful Trifid Nebula is a cosmic study in contrasts. Also known as M20, it lies about 5,000 light-years away toward the nebula rich constellation Sagittarius. A star forming region in the plane of our galaxy, the Trifid does illustrate three different types of astronomical nebulae; red emission nebulae dominated by light from hydrogen atoms, blue reflection nebulae produced by dust reflecting starlight, and dark nebulae where dense dust clouds appear in silhouette. But the red emission region, roughly separated into three parts by obscuring dust lanes, is what lends the Trifid its popular name. Pillars and jets sculpted by newborn stars, above and right of the emission nebula's center, appear in famous Hubble Space Telescope close-up images of the region. The Trifid Nebula is about 40 light-years across. Too faint to be seen by the unaided eye, it almost covers the area of a full moon on planet Earth's sky.\",\"hdurl\":\"https://apod.nasa.gov/apod/image/2407/TrifidrecortesRGB.jpg\",\"media_type\":\"image\",\"service_version\":\"v1\",\"title\":\"A Beautiful Trifid\",\"url\":\"https://apod.nasa.gov/apod/image/2407/TrifidrecortesRGB1024.jpg\"}\n",
            "\n"
          ]
        }
      ]
    },
    {
      "cell_type": "code",
      "execution_count": null,
      "metadata": {
        "colab": {
          "base_uri": "https://localhost:8080/",
          "height": 911
        },
        "id": "_WzwIieWlLUl",
        "outputId": "688716e5-fbf8-4aa1-dee9-5e8f0e68f1eb"
      },
      "outputs": [
        {
          "output_type": "stream",
          "name": "stdout",
          "text": [
            "{\"date\":\"2021-09-01\",\"explanation\":\"Why would galaxies emit jets that look like ghosts?  And furthermore, why do they appear to be dancing?  The curled and fluffy jets from the supermassive black holes at the centers of two host galaxies (top center and lower left) are unlike anything seen before.  They were found by astronomers using the Australian Square Kilometer Array Pathfinder (ASKAP) radio telescope when creating maps tracing the evolution of galaxies.  Images preceding this Evolutionary Map of the Universe survey only showed amorphous blobs.  Eventually, comparisons of relative amounts of energy emitted revealed the glowing elongated structures were created by electrons streaming around magnetic field lines.  Overlaying the radio data on an optical view of the sky (Dark Energy Survey) confirmed that the electron streams originated from the centers of active galaxies. Usually such Active Galactic Nuclei (AGN) produce straight jets.  A leading hypothesis for the geometric origin of these unusually graceful shapes involves the flow of large-scale intergalactic winds.    Astrophysicists: Browse 2,500+ codes in the Astrophysics Source Code Library\",\"hdurl\":\"https://apod.nasa.gov/apod/image/2109/DancingGhosts_EnglishNorris_2524.jpg\",\"media_type\":\"image\",\"service_version\":\"v1\",\"title\":\"Dancing Ghosts: Curved Jets from Active Galaxies\",\"url\":\"https://apod.nasa.gov/apod/image/2109/DancingGhosts_EnglishNorris_960.jpg\"}\n",
            "\n",
            "日付: 2021-09-01\n",
            "説明: Why would galaxies emit jets that look like ghosts?  And furthermore, why do they appear to be dancing?  The curled and fluffy jets from the supermassive black holes at the centers of two host galaxies (top center and lower left) are unlike anything seen before.  They were found by astronomers using the Australian Square Kilometer Array Pathfinder (ASKAP) radio telescope when creating maps tracing the evolution of galaxies.  Images preceding this Evolutionary Map of the Universe survey only showed amorphous blobs.  Eventually, comparisons of relative amounts of energy emitted revealed the glowing elongated structures were created by electrons streaming around magnetic field lines.  Overlaying the radio data on an optical view of the sky (Dark Energy Survey) confirmed that the electron streams originated from the centers of active galaxies. Usually such Active Galactic Nuclei (AGN) produce straight jets.  A leading hypothesis for the geometric origin of these unusually graceful shapes involves the flow of large-scale intergalactic winds.    Astrophysicists: Browse 2,500+ codes in the Astrophysics Source Code Library\n",
            "HD画像URL: https://apod.nasa.gov/apod/image/2109/DancingGhosts_EnglishNorris_2524.jpg\n",
            "メディアタイプ: image\n",
            "サービスバージョン: v1\n",
            "タイトル: Dancing Ghosts: Curved Jets from Active Galaxies\n",
            "画像URL: https://apod.nasa.gov/apod/image/2109/DancingGhosts_EnglishNorris_960.jpg\n"
          ]
        },
        {
          "output_type": "display_data",
          "data": {
            "text/html": [
              "<img src=\"https://apod.nasa.gov/apod/image/2109/DancingGhosts_EnglishNorris_960.jpg\"/>"
            ],
            "text/plain": [
              "<IPython.core.display.Image object>"
            ]
          },
          "metadata": {}
        }
      ],
      "source": [
        "import requests\n",
        "import json\n",
        "from IPython.display import Image, display\n",
        "\n",
        "url = \"https://api.nasa.gov/planetary/apod?api_key=xxxxxxxxxxxxxxxxxxxxxxxxx&date=2021-09-01\"\n",
        "\n",
        "payload = {}\n",
        "headers = {}\n",
        "\n",
        "response = requests.request(\"GET\", url, headers=headers, data=payload)\n",
        "\n",
        "print(response.text)\n",
        "\n",
        "data = response.json()\n",
        "\n",
        "# 各キーごとに内容を表示\n",
        "print(\"日付:\", data[\"date\"])\n",
        "print(\"説明:\", data[\"explanation\"])\n",
        "print(\"HD画像URL:\", data[\"hdurl\"])\n",
        "print(\"メディアタイプ:\", data[\"media_type\"])\n",
        "print(\"サービスバージョン:\", data[\"service_version\"])\n",
        "print(\"タイトル:\", data[\"title\"])\n",
        "print(\"画像URL:\", data[\"url\"])\n",
        "\n",
        "# 画像URLの取得\n",
        "image_url = data[\"url\"]\n",
        "\n",
        "# 画像の表示\n",
        "display(Image(url=image_url))\n"
      ]
    },
    {
      "cell_type": "code",
      "source": [
        "!pip install mysql-connector-python"
      ],
      "metadata": {
        "colab": {
          "base_uri": "https://localhost:8080/"
        },
        "id": "p5qGWH5Wyerv",
        "outputId": "a64534a8-1aec-4b18-b0fb-78aaa6de455f"
      },
      "execution_count": null,
      "outputs": [
        {
          "output_type": "stream",
          "name": "stdout",
          "text": [
            "Collecting mysql-connector-python\n",
            "  Downloading mysql_connector_python-9.0.0-cp310-cp310-manylinux_2_17_x86_64.whl (19.3 MB)\n",
            "\u001b[2K     \u001b[90m━━━━━━━━━━━━━━━━━━━━━━━━━━━━━━━━━━━━━━━━\u001b[0m \u001b[32m19.3/19.3 MB\u001b[0m \u001b[31m39.7 MB/s\u001b[0m eta \u001b[36m0:00:00\u001b[0m\n",
            "\u001b[?25hInstalling collected packages: mysql-connector-python\n",
            "Successfully installed mysql-connector-python-9.0.0\n"
          ]
        }
      ]
    },
    {
      "cell_type": "code",
      "source": [
        "import mysql.connector\n",
        "import requests\n",
        "\n",
        "# NASA APIからデータを取得\n",
        "url = \"https://api.nasa.gov/planetary/apod?api_key=xxxxxxxxxxxxxxxxxxxxxxxxx&date=2021-09-01\"\n",
        "response = requests.get(url)\n",
        "data = response.json()\n",
        "\n",
        "# MySQLデータベースへの接続\n",
        "conn = mysql.connector.connect(\n",
        "    host=\"database-001.xxxxxxxxxxxxxxxxxxxxxxxxx.us-east-1.rds.amazonaws.com\",\n",
        "    user=\"admin\",\n",
        "    passwd=\"LinuxOS99\",\n",
        "    database=\"nasa\"\n",
        ")\n",
        "\n",
        "# カーソルの作成\n",
        "cursor = conn.cursor()\n",
        "\n",
        "# SQL文の定義\n",
        "sql = \"\"\"\n",
        "INSERT INTO apod (date, explanation, hdurl, media_type, service_version, title, url)\n",
        "VALUES (%s, %s, %s, %s, %s, %s, %s)\n",
        "\"\"\"\n",
        "\n",
        "# データの挿入\n",
        "values = (\n",
        "    data[\"date\"],\n",
        "    data[\"explanation\"],\n",
        "    data[\"hdurl\"],\n",
        "    data[\"media_type\"],\n",
        "    data[\"service_version\"],\n",
        "    data[\"title\"],\n",
        "    data[\"url\"]\n",
        ")\n",
        "\n",
        "# SQL文の実行\n",
        "cursor.execute(sql, values)\n",
        "\n",
        "# コミット（変更をデータベースに反映）\n",
        "conn.commit()\n",
        "\n",
        "# 接続のクローズ\n",
        "cursor.close()\n",
        "conn.close()"
      ],
      "metadata": {
        "id": "MNL4G6gHy_mL"
      },
      "execution_count": null,
      "outputs": []
    },
    {
      "cell_type": "code",
      "source": [
        "import requests\n",
        "\n",
        "url = \"https://dog.ceo/api/breeds/image/random\"\n",
        "\n",
        "payload = {}\n",
        "headers = {}\n",
        "\n",
        "response = requests.request(\"GET\", url, headers=headers, data=payload)\n",
        "\n",
        "print(response.text)\n",
        "\n",
        "data = response.json()\n",
        "# 画像URLの取得\n",
        "image_url = data[\"message\"]\n",
        "\n",
        "# 画像の表示\n",
        "display(Image(url=image_url))\n"
      ],
      "metadata": {
        "colab": {
          "base_uri": "https://localhost:8080/",
          "height": 1000
        },
        "id": "6cnbz0mdlNSd",
        "outputId": "b4bbcc78-4d5f-454c-a8e7-15cfacc5b6f1"
      },
      "execution_count": null,
      "outputs": [
        {
          "output_type": "stream",
          "name": "stdout",
          "text": [
            "{\"message\":\"https:\\/\\/images.dog.ceo\\/breeds\\/finnish-lapphund\\/mochilamvan.jpg\",\"status\":\"success\"}\n"
          ]
        },
        {
          "output_type": "display_data",
          "data": {
            "text/html": [
              "<img src=\"https://images.dog.ceo/breeds/finnish-lapphund/mochilamvan.jpg\"/>"
            ],
            "text/plain": [
              "<IPython.core.display.Image object>"
            ]
          },
          "metadata": {}
        }
      ]
    },
    {
      "cell_type": "code",
      "source": [],
      "metadata": {
        "id": "4yrsjvaRpm25"
      },
      "execution_count": null,
      "outputs": []
    }
  ]
}